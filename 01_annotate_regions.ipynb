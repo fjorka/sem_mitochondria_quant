{
 "cells": [
  {
   "cell_type": "markdown",
   "id": "aee3e910",
   "metadata": {},
   "source": [
    "This notebook allows you to open an image and annotate polygonal regions that should be excluded from analysis—such as warped tissue areas, major imaging artifacts, or other unwanted regions."
   ]
  },
  {
   "cell_type": "code",
   "execution_count": 10,
   "id": "48328510",
   "metadata": {},
   "outputs": [],
   "source": [
    "import napari\n",
    "import dask.array as da\n",
    "import numpy as np\n",
    "from tifffile import imread\n",
    "import pickle as pkl"
   ]
  },
  {
   "cell_type": "code",
   "execution_count": 11,
   "id": "672a098d",
   "metadata": {},
   "outputs": [],
   "source": [
    "im_path = r'D:\\data_analysis\\2025_Birder_mito\\88EM87C 25x25_ashlar.ome.tif'\n",
    "output_dir = r'D:\\data_analysis\\2025_Birder_mito\\C_00_analysis'\n",
    "\n",
    "res = 3"
   ]
  },
  {
   "cell_type": "code",
   "execution_count": 12,
   "id": "67580dd4",
   "metadata": {},
   "outputs": [],
   "source": [
    "store = imread(im_path, aszarr=True)\n",
    "im = da.from_zarr(store,res)"
   ]
  },
  {
   "cell_type": "markdown",
   "id": "ecb40091",
   "metadata": {},
   "source": [
    "## Open in the viewer and annotate"
   ]
  },
  {
   "cell_type": "code",
   "execution_count": 13,
   "id": "e0b1815e",
   "metadata": {},
   "outputs": [
    {
     "data": {
      "text/plain": [
       "<Shapes layer 'discard_regions' at 0x19e469eb1d0>"
      ]
     },
     "execution_count": 13,
     "metadata": {},
     "output_type": "execute_result"
    }
   ],
   "source": [
    "viewer = napari.Viewer()\n",
    "viewer.add_image(im)\n",
    "viewer.add_shapes(name = 'discard_regions')"
   ]
  },
  {
   "cell_type": "markdown",
   "id": "3cddb64d",
   "metadata": {},
   "source": [
    "## Save"
   ]
  },
  {
   "cell_type": "code",
   "execution_count": 14,
   "id": "6a3580c3",
   "metadata": {},
   "outputs": [],
   "source": [
    "# collect data\n",
    "discard_regions = viewer.layers['discard_regions'].data\n",
    "\n",
    "# save\n",
    "with open(f'{output_dir}/discard_regions.pkl', 'wb') as f:\n",
    "    pkl.dump(discard_regions, f)"
   ]
  },
  {
   "cell_type": "code",
   "execution_count": null,
   "id": "0978cd5f",
   "metadata": {},
   "outputs": [],
   "source": []
  }
 ],
 "metadata": {
  "kernelspec": {
   "display_name": "cellpose-env",
   "language": "python",
   "name": "python3"
  },
  "language_info": {
   "codemirror_mode": {
    "name": "ipython",
    "version": 3
   },
   "file_extension": ".py",
   "mimetype": "text/x-python",
   "name": "python",
   "nbconvert_exporter": "python",
   "pygments_lexer": "ipython3",
   "version": "3.11.11"
  }
 },
 "nbformat": 4,
 "nbformat_minor": 5
}
