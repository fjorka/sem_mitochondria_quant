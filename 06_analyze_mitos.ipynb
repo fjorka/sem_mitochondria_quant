{
 "cells": [
  {
   "cell_type": "code",
   "execution_count": 1,
   "metadata": {},
   "outputs": [],
   "source": [
    "%load_ext autoreload\n",
    "%autoreload 2\n",
    "\n",
    "import os\n",
    "from tqdm.notebook import tqdm\n",
    "from imaris_ims_file_reader.ims import ims\n",
    "import dask.array as da\n",
    "import pandas as pd\n",
    "import numpy as np\n",
    "import pickle as pkl\n",
    "import napari\n",
    "from cellpose import models\n",
    "from skimage.io import imread,imsave\n",
    "import seaborn as sns\n",
    "import matplotlib.pyplot as plt\n",
    "\n",
    "from utils import extract_regionprops, find_edge_df, mask_from_df, suppress_by_iou_mitos, compute_iou_array, add_soma_data"
   ]
  },
  {
   "cell_type": "code",
   "execution_count": 19,
   "metadata": {},
   "outputs": [],
   "source": [
    "im_path = r'D:\\data_analysis\\2025_Birder_mito\\88EM87C 25x25_ashlar.ome.tif'\n",
    "output_dir = r'D:\\data_analysis\\2025_Birder_mito\\C_00_analysis'\n",
    "prefix_save = '88EM87C_'\n",
    "mitos_sub_dir = 'mitos_sam'\n",
    "\n",
    "px_size = 10 #[nm]\n",
    "\n",
    "df_axons_path = os.path.join(output_dir,f'{prefix_save}axons.pkl')\n",
    "df_mitos_path = os.path.join(output_dir,f'{prefix_save}mitos.pkl')\n",
    "\n",
    "axon_res = 3\n",
    "mitos_res = 0\n",
    "row_offset = 0 # used if df was created as a test on a smaller image\n",
    "col_offset = 0 # used if df was created as a test on a smaller image\n",
    "\n",
    "# details of selecting mito masks\n",
    "res_adjust = axon_res - mitos_res"
   ]
  },
  {
   "cell_type": "markdown",
   "metadata": {},
   "source": [
    "## Get an image"
   ]
  },
  {
   "cell_type": "code",
   "execution_count": 9,
   "metadata": {},
   "outputs": [
    {
     "name": "stderr",
     "output_type": "stream",
     "text": [
      "C:\\Users\\KMK280\\AppData\\Local\\Temp\\ipykernel_38664\\1588550211.py:1: FutureWarning: The plugin infrastructure in `skimage.io` is deprecated since version 0.25 and will be removed in 0.27 (or later). To avoid this warning, please do not pass additional keyword arguments for plugins (`**plugin_args`). Instead, use `imageio` or other I/O packages directly. See also `skimage.io.imread`.\n",
      "  store = imread(im_path, aszarr=True)\n"
     ]
    }
   ],
   "source": [
    "store = imread(im_path, aszarr=True)\n",
    "im_list = []\n",
    "for res in range(axon_res+1):\n",
    "    im = da.from_zarr(store,res)\n",
    "    im_list.append(im)"
   ]
  },
  {
   "cell_type": "code",
   "execution_count": 10,
   "metadata": {},
   "outputs": [
    {
     "data": {
      "text/plain": [
       "(22084, 29266)"
      ]
     },
     "execution_count": 10,
     "metadata": {},
     "output_type": "execute_result"
    }
   ],
   "source": [
    "im_shape = im_list[0].shape\n",
    "im_shape"
   ]
  },
  {
   "cell_type": "code",
   "execution_count": null,
   "metadata": {},
   "outputs": [
    {
     "data": {
      "text/plain": [
       "<Image layer 'im_list' at 0x1b788040090>"
      ]
     },
     "execution_count": 20,
     "metadata": {},
     "output_type": "execute_result"
    }
   ],
   "source": [
    "viewer = napari.Viewer()\n",
    "viewer.add_image(im_list, scale = [px_size, px_size])"
   ]
  },
  {
   "cell_type": "code",
   "execution_count": 25,
   "metadata": {},
   "outputs": [],
   "source": [
    "viewer.scale_bar.visible = True\n",
    "\n",
    "# Text options\n",
    "viewer.scale_bar.unit = 'nm'  # set to None to diplay no unit\n",
    "viewer.scale_bar.length = 5000  # length, in units, of the scale bar\n",
    "viewer.scale_bar.font_size = 20  # default is 10\n",
    "\n",
    "# Text color\n",
    "viewer.scale_bar.colored = True  # default value is False\n",
    "viewer.scale_bar.color = 'white'  # default value is magenta: (1,0,1,1)\n",
    "\n",
    "# Background box\n",
    "viewer.scale_bar.box = False  # add background box, default is False\n",
    "\n",
    "# Scale bar position\n",
    "viewer.scale_bar.position = 'bottom_right'  # default is 'bottom_right'\n",
    "viewer.scale_bar.ticks = False"
   ]
  },
  {
   "cell_type": "markdown",
   "metadata": {},
   "source": [
    "## Visualize axons"
   ]
  },
  {
   "cell_type": "code",
   "execution_count": 14,
   "metadata": {},
   "outputs": [
    {
     "name": "stdout",
     "output_type": "stream",
     "text": [
      "Number of axons: 548\n"
     ]
    }
   ],
   "source": [
    "df_name = f'{prefix_save}axons.pkl'\n",
    "df_path = os.path.join(output_dir,df_name)\n",
    "df_cells = pd.read_pickle(df_path)\n",
    "print('Number of axons:',len(df_cells))"
   ]
  },
  {
   "cell_type": "code",
   "execution_count": 26,
   "metadata": {},
   "outputs": [
    {
     "data": {
      "text/plain": [
       "<Labels layer 'mask' at 0x1b796cba350>"
      ]
     },
     "execution_count": 26,
     "metadata": {},
     "output_type": "execute_result"
    }
   ],
   "source": [
    "im_shape = im_list[axon_res].shape\n",
    "\n",
    "# add mask to viewer\n",
    "mask = mask_from_df(df_cells, im_shape)\n",
    "viewer.add_labels(mask, scale = [px_size*2**axon_res,px_size*2**axon_res])"
   ]
  },
  {
   "cell_type": "markdown",
   "metadata": {},
   "source": [
    "## Visualize mitochondria"
   ]
  },
  {
   "cell_type": "code",
   "execution_count": 15,
   "metadata": {},
   "outputs": [
    {
     "name": "stdout",
     "output_type": "stream",
     "text": [
      "Number of axons: 4347\n"
     ]
    }
   ],
   "source": [
    "df_name = f'{prefix_save}mitos.pkl'\n",
    "df_path = os.path.join(output_dir,df_name)\n",
    "df_mitos = pd.read_pickle(df_path)\n",
    "print('Number of axons:',len(df_mitos))"
   ]
  },
  {
   "cell_type": "code",
   "execution_count": 27,
   "metadata": {},
   "outputs": [],
   "source": [
    "# add points for each category\n",
    "categories = ['healthy', 'swollen']\n",
    "colors = ['green', 'red']\n",
    "\n",
    "for cat, color in zip(categories, colors):\n",
    "\n",
    "    points = df_mitos.loc[df_mitos.prediction == cat,['centroid-0','centroid-1']].to_numpy()\n",
    "    \n",
    "    viewer.add_points(points, name = cat, size = 50, border_color= color, face_color = [0, 0, 0, 0], scale = [px_size*2**mitos_res,px_size*2**mitos_res])"
   ]
  },
  {
   "cell_type": "code",
   "execution_count": null,
   "metadata": {},
   "outputs": [],
   "source": []
  }
 ],
 "metadata": {
  "kernelspec": {
   "display_name": "cellpose-env",
   "language": "python",
   "name": "python3"
  },
  "language_info": {
   "codemirror_mode": {
    "name": "ipython",
    "version": 3
   },
   "file_extension": ".py",
   "mimetype": "text/x-python",
   "name": "python",
   "nbconvert_exporter": "python",
   "pygments_lexer": "ipython3",
   "version": "3.11.11"
  }
 },
 "nbformat": 4,
 "nbformat_minor": 2
}
