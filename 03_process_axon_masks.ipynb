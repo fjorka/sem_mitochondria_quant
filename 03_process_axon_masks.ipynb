{
 "cells": [
  {
   "cell_type": "code",
   "execution_count": null,
   "metadata": {},
   "outputs": [],
   "source": [
    "%load_ext autoreload\n",
    "%autoreload 2\n",
    "\n",
    "import os\n",
    "from tqdm.notebook import tqdm\n",
    "from imaris_ims_file_reader.ims import ims\n",
    "import dask.array as da\n",
    "import pandas as pd\n",
    "import numpy as np\n",
    "import pickle as pkl\n",
    "import napari\n",
    "from cellpose import models\n",
    "from skimage.io import imread,imsave\n",
    "import seaborn as sns\n",
    "import matplotlib.pyplot as plt\n",
    "\n",
    "from utils import extract_regionprops, find_edge_df, mask_from_df, suppress_by_iou, compute_iou_array, add_soma_data, mark_tile_edge_objects"
   ]
  },
  {
   "cell_type": "markdown",
   "metadata": {},
   "source": [
    "## Get an image"
   ]
  },
  {
   "cell_type": "code",
   "execution_count": 2,
   "metadata": {},
   "outputs": [],
   "source": [
    "im_path = r'D:\\data_analysis\\2025_Birder_mito\\88EM87C 25x25_ashlar.ome.tif'\n",
    "output_dir = r'D:\\data_analysis\\2025_Birder_mito\\C_00_analysis'\n",
    "prefix_save = '88EM87C_'\n",
    "\n",
    "axon_res = 3\n",
    "\n",
    "px_size = 10 # in nm on res level 0\n",
    "scale = ((px_size/1000)*2**axon_res, (px_size/1000)*2**axon_res)"
   ]
  },
  {
   "cell_type": "code",
   "execution_count": 3,
   "metadata": {},
   "outputs": [
    {
     "name": "stderr",
     "output_type": "stream",
     "text": [
      "C:\\Users\\KMK280\\AppData\\Local\\Temp\\ipykernel_30168\\465329857.py:1: FutureWarning: The plugin infrastructure in `skimage.io` is deprecated since version 0.25 and will be removed in 0.27 (or later). To avoid this warning, please do not pass additional keyword arguments for plugins (`**plugin_args`). Instead, use `imageio` or other I/O packages directly. See also `skimage.io.imread`.\n",
      "  store = imread(im_path, aszarr=True)\n"
     ]
    }
   ],
   "source": [
    "store = imread(im_path, aszarr=True)\n",
    "im = da.from_zarr(store, axon_res)\n",
    "im_shape = im.shape"
   ]
  },
  {
   "cell_type": "code",
   "execution_count": 4,
   "metadata": {},
   "outputs": [
    {
     "data": {
      "text/plain": [
       "<Image layer 'im' at 0x18b5a36bc50>"
      ]
     },
     "execution_count": 4,
     "metadata": {},
     "output_type": "execute_result"
    }
   ],
   "source": [
    "viewer = napari.Viewer()\n",
    "viewer.add_image(im, scale=scale)"
   ]
  },
  {
   "cell_type": "code",
   "execution_count": 134,
   "metadata": {},
   "outputs": [],
   "source": [
    "viewer.scale_bar.visible = True\n",
    "\n",
    "# Text options\n",
    "viewer.scale_bar.unit = 'um'  # set to None to diplay no unit\n",
    "viewer.scale_bar.length = 20  # length, in units, of the scale bar\n",
    "viewer.scale_bar.font_size = 30  # default is 10\n",
    "\n",
    "# Text color\n",
    "viewer.scale_bar.colored = True  # default value is False\n",
    "viewer.scale_bar.color = 'white'  # default value is magenta: (1,0,1,1)\n",
    "\n",
    "# Background box\n",
    "viewer.scale_bar.box = False  # add background box, default is False\n",
    "\n",
    "# Scale bar position\n",
    "viewer.scale_bar.position = 'bottom_right'  # default is 'bottom_right'"
   ]
  },
  {
   "cell_type": "markdown",
   "metadata": {},
   "source": [
    "## Clean SAM masks"
   ]
  },
  {
   "cell_type": "code",
   "execution_count": 5,
   "metadata": {},
   "outputs": [
    {
     "name": "stderr",
     "output_type": "stream",
     "text": [
      "  0%|          | 0/20 [00:00<?, ?it/s]"
     ]
    },
    {
     "name": "stdout",
     "output_type": "stream",
     "text": [
      "Processing tile_masks_00000_00000.pkl\n",
      "Loaded 231 masks.\n"
     ]
    },
    {
     "name": "stderr",
     "output_type": "stream",
     "text": [
      "  5%|▌         | 1/20 [00:02<00:45,  2.37s/it]"
     ]
    },
    {
     "name": "stdout",
     "output_type": "stream",
     "text": [
      "Kept 243 axons.\n",
      "Processing tile_masks_00000_00724.pkl\n",
      "Loaded 396 masks.\n"
     ]
    },
    {
     "name": "stderr",
     "output_type": "stream",
     "text": [
      " 10%|█         | 2/20 [00:06<00:59,  3.32s/it]"
     ]
    },
    {
     "name": "stdout",
     "output_type": "stream",
     "text": [
      "Kept 416 axons.\n",
      "Processing tile_masks_00000_01448.pkl\n",
      "Loaded 410 masks.\n"
     ]
    },
    {
     "name": "stderr",
     "output_type": "stream",
     "text": [
      " 15%|█▌        | 3/20 [00:10<00:59,  3.51s/it]"
     ]
    },
    {
     "name": "stdout",
     "output_type": "stream",
     "text": [
      "Kept 427 axons.\n",
      "Processing tile_masks_00000_02172.pkl\n",
      "Loaded 420 masks.\n"
     ]
    },
    {
     "name": "stderr",
     "output_type": "stream",
     "text": [
      " 20%|██        | 4/20 [00:14<00:58,  3.68s/it]"
     ]
    },
    {
     "name": "stdout",
     "output_type": "stream",
     "text": [
      "Kept 446 axons.\n",
      "Processing tile_masks_00000_02635.pkl\n",
      "Loaded 301 masks.\n"
     ]
    },
    {
     "name": "stderr",
     "output_type": "stream",
     "text": [
      " 25%|██▌       | 5/20 [00:17<00:51,  3.46s/it]"
     ]
    },
    {
     "name": "stdout",
     "output_type": "stream",
     "text": [
      "Kept 321 axons.\n",
      "Processing tile_masks_00724_00000.pkl\n",
      "Loaded 43 masks.\n"
     ]
    },
    {
     "name": "stderr",
     "output_type": "stream",
     "text": [
      " 30%|███       | 6/20 [00:17<00:34,  2.45s/it]"
     ]
    },
    {
     "name": "stdout",
     "output_type": "stream",
     "text": [
      "Kept 48 axons.\n",
      "Processing tile_masks_00724_00724.pkl\n",
      "Loaded 322 masks.\n"
     ]
    },
    {
     "name": "stderr",
     "output_type": "stream",
     "text": [
      " 35%|███▌      | 7/20 [00:20<00:34,  2.68s/it]"
     ]
    },
    {
     "name": "stdout",
     "output_type": "stream",
     "text": [
      "Kept 340 axons.\n",
      "Processing tile_masks_00724_01448.pkl\n",
      "Loaded 425 masks.\n"
     ]
    },
    {
     "name": "stderr",
     "output_type": "stream",
     "text": [
      " 40%|████      | 8/20 [00:24<00:37,  3.09s/it]"
     ]
    },
    {
     "name": "stdout",
     "output_type": "stream",
     "text": [
      "Kept 453 axons.\n",
      "Processing tile_masks_00724_02172.pkl\n",
      "Loaded 410 masks.\n"
     ]
    },
    {
     "name": "stderr",
     "output_type": "stream",
     "text": [
      " 45%|████▌     | 9/20 [00:28<00:37,  3.37s/it]"
     ]
    },
    {
     "name": "stdout",
     "output_type": "stream",
     "text": [
      "Kept 438 axons.\n",
      "Processing tile_masks_00724_02635.pkl\n",
      "Loaded 224 masks.\n"
     ]
    },
    {
     "name": "stderr",
     "output_type": "stream",
     "text": [
      " 50%|█████     | 10/20 [00:31<00:30,  3.09s/it]"
     ]
    },
    {
     "name": "stdout",
     "output_type": "stream",
     "text": [
      "Kept 233 axons.\n",
      "Processing tile_masks_01448_00000.pkl\n",
      "Loaded 200 masks.\n"
     ]
    },
    {
     "name": "stderr",
     "output_type": "stream",
     "text": [
      " 55%|█████▌    | 11/20 [00:33<00:24,  2.74s/it]"
     ]
    },
    {
     "name": "stdout",
     "output_type": "stream",
     "text": [
      "Kept 213 axons.\n",
      "Processing tile_masks_01448_00724.pkl\n",
      "Loaded 472 masks.\n"
     ]
    },
    {
     "name": "stderr",
     "output_type": "stream",
     "text": [
      " 60%|██████    | 12/20 [00:37<00:26,  3.26s/it]"
     ]
    },
    {
     "name": "stdout",
     "output_type": "stream",
     "text": [
      "Kept 503 axons.\n",
      "Processing tile_masks_01448_01448.pkl\n",
      "Loaded 423 masks.\n"
     ]
    },
    {
     "name": "stderr",
     "output_type": "stream",
     "text": [
      " 65%|██████▌   | 13/20 [00:41<00:24,  3.45s/it]"
     ]
    },
    {
     "name": "stdout",
     "output_type": "stream",
     "text": [
      "Kept 458 axons.\n",
      "Processing tile_masks_01448_02172.pkl\n",
      "Loaded 422 masks.\n"
     ]
    },
    {
     "name": "stderr",
     "output_type": "stream",
     "text": [
      " 70%|███████   | 14/20 [00:45<00:21,  3.64s/it]"
     ]
    },
    {
     "name": "stdout",
     "output_type": "stream",
     "text": [
      "Kept 448 axons.\n",
      "Processing tile_masks_01448_02635.pkl\n",
      "Loaded 322 masks.\n"
     ]
    },
    {
     "name": "stderr",
     "output_type": "stream",
     "text": [
      " 75%|███████▌  | 15/20 [00:48<00:17,  3.49s/it]"
     ]
    },
    {
     "name": "stdout",
     "output_type": "stream",
     "text": [
      "Kept 344 axons.\n",
      "Processing tile_masks_01737_00000.pkl\n",
      "Loaded 341 masks.\n"
     ]
    },
    {
     "name": "stderr",
     "output_type": "stream",
     "text": [
      " 80%|████████  | 16/20 [00:51<00:13,  3.39s/it]"
     ]
    },
    {
     "name": "stdout",
     "output_type": "stream",
     "text": [
      "Kept 356 axons.\n",
      "Processing tile_masks_01737_00724.pkl\n",
      "Loaded 525 masks.\n"
     ]
    },
    {
     "name": "stderr",
     "output_type": "stream",
     "text": [
      " 85%|████████▌ | 17/20 [00:57<00:11,  3.99s/it]"
     ]
    },
    {
     "name": "stdout",
     "output_type": "stream",
     "text": [
      "Kept 578 axons.\n",
      "Processing tile_masks_01737_01448.pkl\n",
      "Loaded 444 masks.\n"
     ]
    },
    {
     "name": "stderr",
     "output_type": "stream",
     "text": [
      " 90%|█████████ | 18/20 [01:01<00:08,  4.03s/it]"
     ]
    },
    {
     "name": "stdout",
     "output_type": "stream",
     "text": [
      "Kept 477 axons.\n",
      "Processing tile_masks_01737_02172.pkl\n",
      "Loaded 404 masks.\n"
     ]
    },
    {
     "name": "stderr",
     "output_type": "stream",
     "text": [
      " 95%|█████████▌| 19/20 [01:05<00:03,  4.00s/it]"
     ]
    },
    {
     "name": "stdout",
     "output_type": "stream",
     "text": [
      "Kept 430 axons.\n",
      "Processing tile_masks_01737_02635.pkl\n",
      "Loaded 343 masks.\n"
     ]
    },
    {
     "name": "stderr",
     "output_type": "stream",
     "text": [
      "100%|██████████| 20/20 [01:08<00:00,  3.43s/it]"
     ]
    },
    {
     "name": "stdout",
     "output_type": "stream",
     "text": [
      "Kept 361 axons.\n"
     ]
    },
    {
     "name": "stderr",
     "output_type": "stream",
     "text": [
      "\n"
     ]
    }
   ],
   "source": [
    "properties = ['area', 'area_convex', 'area_filled', 'euler_number', 'image','bbox',\n",
    "        'eccentricity', 'solidity', 'centroid', 'major_axis_length', 'minor_axis_length']\n",
    "\n",
    "\n",
    "file_list = [x for x in os.listdir(output_dir) if x.startswith('tile_masks') and x.endswith('.pkl')]\n",
    "\n",
    "df_all_list = []\n",
    "for file_name in tqdm(file_list):\n",
    "\n",
    "    print(f'Processing {file_name}')    \n",
    "\n",
    "    df_path = os.path.join(output_dir,file_name)\n",
    "    df = pd.read_pickle(df_path)\n",
    "    print(f'Loaded {len(df)} masks.')\n",
    "\n",
    "    # divide masks into separate objects\n",
    "    props_list = [] \n",
    "    for ind, row in df.iterrows():\n",
    "        props = extract_regionprops(row,properties,small_size=50)\n",
    "        # keep origin of the data\n",
    "        props['origin'] = ind\n",
    "        props_list.append(props)\n",
    "\n",
    "    props_all = pd.concat(props_list, ignore_index=True)\n",
    "    props_all.columns = [ f'sc_{col}' if col == 'area' else col for col in props_all.columns]\n",
    "\n",
    "    # drop the segmentation column\n",
    "    df.drop(columns=['segmentation'], inplace=True)\n",
    "\n",
    "    # Concatenate with the original DataFrame\n",
    "    df['origin'] = df.index\n",
    "    df_all = pd.merge(df, props_all,left_on = 'origin', right_on= 'origin', how = 'right').reset_index()\n",
    "\n",
    "    df_all['label'] = df_all.index + 1\n",
    "\n",
    "    print(f'Kept {len(df_all)} axons.')\n",
    "\n",
    "    df_all_list.append(df_all)"
   ]
  },
  {
   "cell_type": "markdown",
   "metadata": {},
   "source": [
    "## Suppress overlapping objects"
   ]
  },
  {
   "cell_type": "code",
   "execution_count": 6,
   "metadata": {},
   "outputs": [
    {
     "name": "stdout",
     "output_type": "stream",
     "text": [
      "Starting number of axons: 7533\n",
      "Number of axons after removing edge objects: 2022\n",
      "Number of axons after suppressing overlaping objects: 548\n"
     ]
    }
   ],
   "source": [
    "df = pd.concat(df_all_list, ignore_index=True)\n",
    "df.label = df.index + 1\n",
    "print(f'Starting number of axons: {len(df)}')\n",
    "\n",
    "# move into the full image coordinate system\n",
    "df['bbox-0'] = df['bbox-0'] + df['tile_row_start']\n",
    "df['bbox-1'] = df['bbox-1'] + df['tile_col_start']\n",
    "df['bbox-2'] = df['bbox-2'] + df['tile_row_start']\n",
    "df['bbox-3'] = df['bbox-3'] + df['tile_col_start']\n",
    "df['centroid-0'] = df['centroid-0'] + df['tile_row_start']\n",
    "df['centroid-1'] = df['centroid-1'] + df['tile_col_start']\n",
    "\n",
    "# remove not promissing objects based on updated parameters\n",
    "df = df.loc[((df['euler_number'] < 1) & (df.sc_area/df.area_filled < 0.9)),:]\n",
    "\n",
    "# remove edge objects of internal tile boundaries\n",
    "df = mark_tile_edge_objects(df, pad=5, filter='not_edge')\n",
    "print(f'Number of axons after removing edge objects: {len(df)}')\n",
    "df['edge_ring'] = False\n",
    "\n",
    "# supress by iou\n",
    "df = df.reset_index(drop=True)\n",
    "df_res = suppress_by_iou(df, iou_threshold=0.2)\n",
    "df_res = df_res.loc[df_res.keep == 1,:]\n",
    "print(f'Number of axons after suppressing overlaping objects: {len(df_res)}')"
   ]
  },
  {
   "cell_type": "markdown",
   "metadata": {},
   "source": [
    "## Find axons soma"
   ]
  },
  {
   "cell_type": "code",
   "execution_count": 24,
   "metadata": {},
   "outputs": [],
   "source": [
    "inside_props = ['area', 'eccentricity', 'major_axis_length', 'minor_axis_length', 'centroid', 'bbox','image']\n",
    "pad = 3\n",
    "\n",
    "df_final = add_soma_data(df_res, inside_props, pad = pad)\n",
    "\n",
    "# clean up labels\n",
    "df_final = df_final.reset_index(drop=True)\n",
    "df_final['label'] = df_final.index + 1\n",
    "df_final['inside_label'] = df_final.index + 1\n"
   ]
  },
  {
   "cell_type": "markdown",
   "metadata": {},
   "source": [
    "## Visualize cleaned masks"
   ]
  },
  {
   "cell_type": "code",
   "execution_count": 25,
   "metadata": {},
   "outputs": [
    {
     "data": {
      "text/plain": [
       "<Labels layer 'axons' at 0x18b307a85d0>"
      ]
     },
     "execution_count": 25,
     "metadata": {},
     "output_type": "execute_result"
    }
   ],
   "source": [
    "# Visualize myelin rings\n",
    "\n",
    "mask = mask_from_df(df_final,im_shape, prefix='')\n",
    "viewer.add_labels(mask, name='myelin rings', opacity = 0.8, scale = scale)\n",
    "\n",
    "# Visualize detected axons\n",
    "\n",
    "mask = mask_from_df(df_final, im_shape, prefix='inside_')\n",
    "viewer.add_labels(mask, name='axons', opacity = 0.4, scale = scale)"
   ]
  },
  {
   "cell_type": "markdown",
   "metadata": {},
   "source": [
    "## Save data frame"
   ]
  },
  {
   "cell_type": "code",
   "execution_count": 26,
   "metadata": {},
   "outputs": [],
   "source": [
    "df_name = f'{prefix_save}axons.pkl'\n",
    "df_final.to_pickle(os.path.join(output_dir,df_name))"
   ]
  },
  {
   "cell_type": "code",
   "execution_count": null,
   "metadata": {},
   "outputs": [],
   "source": []
  }
 ],
 "metadata": {
  "kernelspec": {
   "display_name": "cellpose-env",
   "language": "python",
   "name": "python3"
  },
  "language_info": {
   "codemirror_mode": {
    "name": "ipython",
    "version": 3
   },
   "file_extension": ".py",
   "mimetype": "text/x-python",
   "name": "python",
   "nbconvert_exporter": "python",
   "pygments_lexer": "ipython3",
   "version": "3.11.11"
  }
 },
 "nbformat": 4,
 "nbformat_minor": 2
}
