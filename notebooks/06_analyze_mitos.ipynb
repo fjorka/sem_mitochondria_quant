{
 "cells": [
  {
   "cell_type": "code",
   "execution_count": 11,
   "metadata": {},
   "outputs": [
    {
     "name": "stdout",
     "output_type": "stream",
     "text": [
      "The autoreload extension is already loaded. To reload it, use:\n",
      "  %reload_ext autoreload\n"
     ]
    }
   ],
   "source": [
    "%load_ext autoreload\n",
    "%autoreload 2\n",
    "\n",
    "import os\n",
    "from tqdm.notebook import tqdm\n",
    "import dask.array as da\n",
    "\n",
    "import pandas as pd\n",
    "import numpy as np\n",
    "import pickle as pkl\n",
    "import napari\n",
    "import seaborn as sns\n",
    "import matplotlib.pyplot as plt\n",
    "from tifffile import imread\n",
    "\n",
    "from sem_quant.load_config import load_config\n",
    "from sem_quant.utils import smart_path\n",
    "from sem_quant.processing_utils import mask_from_df"
   ]
  },
  {
   "cell_type": "code",
   "execution_count": 9,
   "metadata": {},
   "outputs": [],
   "source": [
    "config_file_name = \"../configs/A01_config.json\""
   ]
  },
  {
   "cell_type": "code",
   "execution_count": 10,
   "metadata": {},
   "outputs": [],
   "source": [
    "# read in config file\n",
    "\n",
    "config = load_config(config_file_name)\n",
    "\n",
    "im_path = smart_path(config.paths.im_path)\n",
    "analysis_dir = smart_path(config.paths.analysis_dir)\n",
    "\n",
    "output_prefix = config.paths.output_prefix\n",
    "mitos_data_suffix = config.paths.mitos_data_suffix\n",
    "\n",
    "px_size = config.data_properties.px_size\n",
    "axons_res = config.data_properties.axons_res\n",
    "mitos_res = config.data_properties.mitos_res\n",
    "row_offset = config.data_properties.row_offset\n",
    "col_offset = config.data_properties.col_offset\n",
    "\n",
    "# details of selecting mito masks\n",
    "res_adjust = axons_res - mitos_res\n",
    "\n",
    "df_axons_path = os.path.join(analysis_dir,f'{output_prefix}axons.pkl')\n",
    "df_mitos_path = os.path.join(analysis_dir,f'{output_prefix}mitos.pkl')\n"
   ]
  },
  {
   "cell_type": "markdown",
   "metadata": {},
   "source": [
    "## Get an image"
   ]
  },
  {
   "cell_type": "code",
   "execution_count": 12,
   "metadata": {},
   "outputs": [],
   "source": [
    "store = imread(im_path, aszarr=True)\n",
    "im_list = []\n",
    "for res in range(axons_res+1):\n",
    "    im = da.from_zarr(store,res)\n",
    "    im_list.append(im)"
   ]
  },
  {
   "cell_type": "code",
   "execution_count": 13,
   "metadata": {},
   "outputs": [
    {
     "data": {
      "text/plain": [
       "(51069, 64145)"
      ]
     },
     "execution_count": 13,
     "metadata": {},
     "output_type": "execute_result"
    }
   ],
   "source": [
    "im_shape = im_list[0].shape\n",
    "im_shape"
   ]
  },
  {
   "cell_type": "code",
   "execution_count": 14,
   "metadata": {},
   "outputs": [
    {
     "data": {
      "text/plain": [
       "<Image layer 'im_list' at 0x1cb94e1ee10>"
      ]
     },
     "execution_count": 14,
     "metadata": {},
     "output_type": "execute_result"
    }
   ],
   "source": [
    "viewer = napari.Viewer()\n",
    "viewer.add_image(im_list, scale = [px_size, px_size])"
   ]
  },
  {
   "cell_type": "code",
   "execution_count": 15,
   "metadata": {},
   "outputs": [],
   "source": [
    "viewer.scale_bar.visible = True\n",
    "\n",
    "# Text options\n",
    "viewer.scale_bar.unit = 'nm'  # set to None to diplay no unit\n",
    "viewer.scale_bar.length = 5000  # length, in units, of the scale bar\n",
    "viewer.scale_bar.font_size = 20  # default is 10\n",
    "\n",
    "# Text color\n",
    "viewer.scale_bar.colored = True  # default value is False\n",
    "viewer.scale_bar.color = 'white'  # default value is magenta: (1,0,1,1)\n",
    "\n",
    "# Background box\n",
    "viewer.scale_bar.box = False  # add background box, default is False\n",
    "\n",
    "# Scale bar position\n",
    "viewer.scale_bar.position = 'bottom_right'  # default is 'bottom_right'\n",
    "viewer.scale_bar.ticks = False"
   ]
  },
  {
   "cell_type": "markdown",
   "metadata": {},
   "source": [
    "## Visualize axons"
   ]
  },
  {
   "cell_type": "code",
   "execution_count": 16,
   "metadata": {},
   "outputs": [
    {
     "name": "stdout",
     "output_type": "stream",
     "text": [
      "Number of axons: 1308\n"
     ]
    }
   ],
   "source": [
    "df_name = f'{output_prefix}axons.pkl'\n",
    "df_path = os.path.join(analysis_dir,df_name)\n",
    "df_cells = pd.read_pickle(df_path)\n",
    "print('Number of axons:',len(df_cells))"
   ]
  },
  {
   "cell_type": "code",
   "execution_count": 17,
   "metadata": {},
   "outputs": [
    {
     "data": {
      "text/plain": [
       "<Labels layer 'mask' at 0x1cba4e17c50>"
      ]
     },
     "execution_count": 17,
     "metadata": {},
     "output_type": "execute_result"
    }
   ],
   "source": [
    "im_shape = im_list[axons_res-mitos_res].shape\n",
    "\n",
    "# add mask to viewer\n",
    "mask = mask_from_df(df_cells, im_shape)\n",
    "viewer.add_labels(mask, scale = [px_size*2**axons_res,px_size*2**axons_res])"
   ]
  },
  {
   "cell_type": "markdown",
   "metadata": {},
   "source": [
    "## Visualize mitochondria"
   ]
  },
  {
   "cell_type": "code",
   "execution_count": 18,
   "metadata": {},
   "outputs": [
    {
     "name": "stdout",
     "output_type": "stream",
     "text": [
      "Number of axons: 732\n"
     ]
    }
   ],
   "source": [
    "df_name = f'{output_prefix}mitos.pkl'\n",
    "df_path = os.path.join(analysis_dir,df_name)\n",
    "df_mitos = pd.read_pickle(df_path)\n",
    "print('Number of axons:',len(df_mitos))"
   ]
  },
  {
   "cell_type": "code",
   "execution_count": 19,
   "metadata": {},
   "outputs": [],
   "source": [
    "# add points for each category\n",
    "categories = ['healthy', 'swollen']\n",
    "colors = ['green', 'red']\n",
    "\n",
    "for cat, color in zip(categories, colors):\n",
    "\n",
    "    points = df_mitos.loc[df_mitos.prediction == cat,['centroid-0','centroid-1']].to_numpy()\n",
    "    \n",
    "    viewer.add_points(points, name = cat, size = 50, border_color= color, face_color = [0, 0, 0, 0], scale = [px_size*2**mitos_res,px_size*2**mitos_res])"
   ]
  },
  {
   "cell_type": "code",
   "execution_count": null,
   "metadata": {},
   "outputs": [],
   "source": []
  }
 ],
 "metadata": {
  "kernelspec": {
   "display_name": "sem-quant-env",
   "language": "python",
   "name": "python3"
  },
  "language_info": {
   "codemirror_mode": {
    "name": "ipython",
    "version": 3
   },
   "file_extension": ".py",
   "mimetype": "text/x-python",
   "name": "python",
   "nbconvert_exporter": "python",
   "pygments_lexer": "ipython3",
   "version": "3.11.12"
  }
 },
 "nbformat": 4,
 "nbformat_minor": 2
}
