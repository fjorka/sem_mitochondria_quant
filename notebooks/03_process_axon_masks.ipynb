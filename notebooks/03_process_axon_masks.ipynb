{
 "cells": [
  {
   "cell_type": "code",
   "execution_count": 5,
   "metadata": {},
   "outputs": [
    {
     "name": "stdout",
     "output_type": "stream",
     "text": [
      "The autoreload extension is already loaded. To reload it, use:\n",
      "  %reload_ext autoreload\n"
     ]
    }
   ],
   "source": [
    "%load_ext autoreload\n",
    "%autoreload 2\n",
    "\n",
    "import os\n",
    "from tqdm.notebook import tqdm\n",
    "from imaris_ims_file_reader.ims import ims\n",
    "import dask.array as da\n",
    "import pandas as pd\n",
    "import numpy as np\n",
    "import pickle as pkl\n",
    "import napari\n",
    "from cellpose import models\n",
    "from skimage.io import imread,imsave\n",
    "import seaborn as sns\n",
    "import matplotlib.pyplot as plt\n",
    "\n",
    "from sem_quant.processing_utils import extract_regionprops, find_edge_df, mask_from_df, suppress_by_iou, compute_iou_array, add_soma_data, mark_tile_edge_objects\n",
    "from sem_quant.load_config import load_config"
   ]
  },
  {
   "cell_type": "markdown",
   "metadata": {},
   "source": [
    "## Setup"
   ]
  },
  {
   "cell_type": "code",
   "execution_count": 6,
   "metadata": {},
   "outputs": [],
   "source": [
    "config_file_name = \"A01_config.json\""
   ]
  },
  {
   "cell_type": "code",
   "execution_count": 7,
   "metadata": {},
   "outputs": [],
   "source": [
    "# read in config file\n",
    "\n",
    "config = load_config(config_file_name)\n",
    "\n",
    "im_path = config.paths.im_path\n",
    "analysis_dir = config.paths.analysis_dir\n",
    "\n",
    "output_prefix = config.paths.output_prefix\n",
    "axons_data_suffix = config.paths.axons_data_suffix\n",
    "\n",
    "axons_res = config.data_properties.axons_res\n",
    "px_size = config.data_properties.px_size"
   ]
  },
  {
   "cell_type": "markdown",
   "metadata": {},
   "source": [
    "## Get an image"
   ]
  },
  {
   "cell_type": "code",
   "execution_count": 8,
   "metadata": {},
   "outputs": [
    {
     "name": "stderr",
     "output_type": "stream",
     "text": [
      "C:\\Users\\KMK280\\AppData\\Local\\Temp\\ipykernel_43928\\647131095.py:1: FutureWarning: The plugin infrastructure in `skimage.io` is deprecated since version 0.25 and will be removed in 0.27 (or later). To avoid this warning, please do not pass additional keyword arguments for plugins (`**plugin_args`). Instead, use `imageio` or other I/O packages directly. See also `skimage.io.imread`.\n",
      "  store = imread(im_path, aszarr=True)\n"
     ]
    }
   ],
   "source": [
    "store = imread(im_path, aszarr=True)\n",
    "im = da.from_zarr(store, axons_res)\n",
    "im_shape = im.shape"
   ]
  },
  {
   "cell_type": "code",
   "execution_count": 9,
   "metadata": {},
   "outputs": [
    {
     "data": {
      "text/plain": [
       "<Image layer 'im' at 0x293d646d990>"
      ]
     },
     "execution_count": 9,
     "metadata": {},
     "output_type": "execute_result"
    }
   ],
   "source": [
    "viewer = napari.Viewer()\n",
    "viewer.add_image(im)"
   ]
  },
  {
   "cell_type": "markdown",
   "metadata": {},
   "source": [
    "## Clean SAM masks"
   ]
  },
  {
   "cell_type": "code",
   "execution_count": 11,
   "metadata": {},
   "outputs": [
    {
     "data": {
      "application/vnd.jupyter.widget-view+json": {
       "model_id": "4924349a1595448a9028adc2e90e07ac",
       "version_major": 2,
       "version_minor": 0
      },
      "text/plain": [
       "  0%|          | 0/24 [00:00<?, ?it/s]"
      ]
     },
     "metadata": {},
     "output_type": "display_data"
    },
    {
     "name": "stdout",
     "output_type": "stream",
     "text": [
      "Processing tile_masks_00000_00000.pkl\n",
      "Loaded 568 masks.\n",
      "Kept 595 axons.\n",
      "Processing tile_masks_00000_00724.pkl\n",
      "Loaded 562 masks.\n",
      "Kept 580 axons.\n",
      "Processing tile_masks_00000_01448.pkl\n",
      "Loaded 533 masks.\n",
      "Kept 557 axons.\n",
      "Processing tile_masks_00000_02172.pkl\n",
      "Loaded 613 masks.\n",
      "Kept 635 axons.\n",
      "Processing tile_masks_00000_02896.pkl\n",
      "Loaded 461 masks.\n",
      "Kept 474 axons.\n",
      "Processing tile_masks_00000_02986.pkl\n",
      "Loaded 435 masks.\n",
      "Kept 447 axons.\n",
      "Processing tile_masks_00724_00000.pkl\n",
      "Loaded 539 masks.\n",
      "Kept 552 axons.\n",
      "Processing tile_masks_00724_00724.pkl\n",
      "Loaded 544 masks.\n",
      "Kept 556 axons.\n",
      "Processing tile_masks_00724_01448.pkl\n",
      "Loaded 465 masks.\n",
      "Kept 488 axons.\n",
      "Processing tile_masks_00724_02172.pkl\n",
      "Loaded 464 masks.\n",
      "Kept 485 axons.\n",
      "Processing tile_masks_00724_02896.pkl\n",
      "Loaded 481 masks.\n",
      "Kept 497 axons.\n",
      "Processing tile_masks_00724_02986.pkl\n",
      "Loaded 487 masks.\n",
      "Kept 510 axons.\n",
      "Processing tile_masks_01448_00000.pkl\n",
      "Loaded 525 masks.\n",
      "Kept 543 axons.\n",
      "Processing tile_masks_01448_00724.pkl\n",
      "Loaded 522 masks.\n",
      "Kept 535 axons.\n",
      "Processing tile_masks_01448_01448.pkl\n",
      "Loaded 529 masks.\n",
      "Kept 547 axons.\n",
      "Processing tile_masks_01448_02172.pkl\n",
      "Loaded 443 masks.\n",
      "Kept 460 axons.\n",
      "Processing tile_masks_01448_02896.pkl\n",
      "Loaded 456 masks.\n",
      "Kept 471 axons.\n",
      "Processing tile_masks_01448_02986.pkl\n",
      "Loaded 451 masks.\n",
      "Kept 473 axons.\n",
      "Processing tile_masks_02168_00000.pkl\n",
      "Loaded 553 masks.\n",
      "Kept 585 axons.\n",
      "Processing tile_masks_02168_00724.pkl\n",
      "Loaded 546 masks.\n",
      "Kept 567 axons.\n",
      "Processing tile_masks_02168_01448.pkl\n",
      "Loaded 488 masks.\n",
      "Kept 502 axons.\n",
      "Processing tile_masks_02168_02172.pkl\n",
      "Loaded 549 masks.\n",
      "Kept 571 axons.\n",
      "Processing tile_masks_02168_02896.pkl\n",
      "Loaded 535 masks.\n",
      "Kept 551 axons.\n",
      "Processing tile_masks_02168_02986.pkl\n",
      "Loaded 513 masks.\n",
      "Kept 524 axons.\n"
     ]
    }
   ],
   "source": [
    "properties = ['area', 'area_convex', 'area_filled', 'euler_number', 'image','bbox',\n",
    "        'eccentricity', 'solidity', 'centroid', 'major_axis_length', 'minor_axis_length']\n",
    "\n",
    "\n",
    "file_list = [x for x in os.listdir(os.path.join(analysis_dir,'axons')) if x.startswith('tile_masks') and x.endswith('.pkl')]\n",
    "\n",
    "df_all_list = []\n",
    "for file_name in tqdm(file_list):\n",
    "\n",
    "    print(f'Processing {file_name}')    \n",
    "\n",
    "    df_path = os.path.join(analysis_dir,'axons',file_name)\n",
    "    df = pd.read_pickle(df_path)\n",
    "    print(f'Loaded {len(df)} masks.')\n",
    "\n",
    "    # divide masks into separate objects\n",
    "    props_list = [] \n",
    "    for ind, row in df.iterrows():\n",
    "        props = extract_regionprops(row,properties,small_size=50)\n",
    "        # keep origin of the data\n",
    "        props['origin'] = ind\n",
    "        props_list.append(props)\n",
    "\n",
    "    props_all = pd.concat(props_list, ignore_index=True)\n",
    "    props_all.columns = [ f'sc_{col}' if col == 'area' else col for col in props_all.columns]\n",
    "\n",
    "    # drop the segmentation column\n",
    "    df.drop(columns=['segmentation'], inplace=True)\n",
    "\n",
    "    # Concatenate with the original DataFrame\n",
    "    df['origin'] = df.index\n",
    "    df_all = pd.merge(df, props_all,left_on = 'origin', right_on= 'origin', how = 'right').reset_index()\n",
    "\n",
    "    df_all['label'] = df_all.index + 1\n",
    "\n",
    "    print(f'Kept {len(df_all)} axons.')\n",
    "\n",
    "    df_all_list.append(df_all)"
   ]
  },
  {
   "cell_type": "markdown",
   "metadata": {},
   "source": [
    "## Remove objects touching internal borders of the tiles"
   ]
  },
  {
   "cell_type": "code",
   "execution_count": null,
   "metadata": {},
   "outputs": [],
   "source": [
    "df = pd.concat(df_all_list, ignore_index=True)\n",
    "df.label = df.index + 1\n",
    "print(f'Starting number of axons: {len(df)}')\n",
    "\n",
    "# move into the full image coordinate system\n",
    "df['bbox-0'] = df['bbox-0'] + df['tile_row_start']\n",
    "df['bbox-1'] = df['bbox-1'] + df['tile_col_start']\n",
    "df['bbox-2'] = df['bbox-2'] + df['tile_row_start']\n",
    "df['bbox-3'] = df['bbox-3'] + df['tile_col_start']\n",
    "df['centroid-0'] = df['centroid-0'] + df['tile_row_start']\n",
    "df['centroid-1'] = df['centroid-1'] + df['tile_col_start']\n",
    "\n",
    "# remove not promissing objects based on updated parameters\n",
    "df = df.loc[((df['euler_number'] < 1) & (df.sc_area/df.area_filled < config.axons_filters.max_solidity)),:]\n",
    "\n",
    "# remove edge objects of internal tile boundaries\n",
    "df = mark_tile_edge_objects(df, pad=5, filter='not_edge')\n",
    "print(f'Number of axons after removing edge objects: {len(df)}')\n",
    "df['edge_ring'] = False"
   ]
  },
  {
   "cell_type": "markdown",
   "metadata": {},
   "source": [
    "## Suppress overlapping objects"
   ]
  },
  {
   "cell_type": "code",
   "execution_count": null,
   "metadata": {},
   "outputs": [
    {
     "name": "stdout",
     "output_type": "stream",
     "text": [
      "Starting number of axons: 12705\n",
      "Number of axons after removing edge objects: 3362\n",
      "Number of axons after suppressing overlaping objects: 1308\n"
     ]
    }
   ],
   "source": [
    "# supress by iou\n",
    "df = df.reset_index(drop=True)\n",
    "df_res = suppress_by_iou(df, iou_threshold=0.2)\n",
    "df_res = df_res.loc[df_res.keep == 1,:]\n",
    "print(f'Number of axons after suppressing overlaping objects: {len(df_res)}')"
   ]
  },
  {
   "cell_type": "code",
   "execution_count": 13,
   "metadata": {},
   "outputs": [
    {
     "data": {
      "text/plain": [
       "<Axes: xlabel='sc_area', ylabel='Count'>"
      ]
     },
     "execution_count": 13,
     "metadata": {},
     "output_type": "execute_result"
    },
    {
     "data": {
      "image/png": "[encoded data removed]",
      "text/plain": [
       "<Figure size 640x480 with 1 Axes>"
      ]
     },
     "metadata": {},
     "output_type": "display_data"
    }
   ],
   "source": [
    "sns.histplot(df_res['sc_area'])"
   ]
  },
  {
   "cell_type": "markdown",
   "metadata": {},
   "source": [
    "## Find axons soma"
   ]
  },
  {
   "cell_type": "code",
   "execution_count": 14,
   "metadata": {},
   "outputs": [],
   "source": [
    "inside_props = ['area', 'eccentricity', 'major_axis_length', 'minor_axis_length', 'centroid', 'bbox','image']\n",
    "pad = 3\n",
    "\n",
    "df_final = add_soma_data(df_res, inside_props, pad = pad)\n",
    "\n",
    "# clean up labels\n",
    "df_final = df_final.reset_index(drop=True)\n",
    "df_final['label'] = df_final.index + 1\n",
    "df_final['inside_label'] = df_final.index + 1\n"
   ]
  },
  {
   "cell_type": "markdown",
   "metadata": {},
   "source": [
    "## Visualize cleaned masks"
   ]
  },
  {
   "cell_type": "code",
   "execution_count": 15,
   "metadata": {},
   "outputs": [
    {
     "data": {
      "text/plain": [
       "<Labels layer 'axons' at 0x29400719290>"
      ]
     },
     "execution_count": 15,
     "metadata": {},
     "output_type": "execute_result"
    }
   ],
   "source": [
    "# Visualize myelin rings\n",
    "\n",
    "mask = mask_from_df(df_final,im_shape, prefix='')\n",
    "viewer.add_labels(mask, name='myelin rings', opacity = 0.8)#, scale = scale)\n",
    "\n",
    "# Visualize detected axons\n",
    "\n",
    "mask = mask_from_df(df_final, im_shape, prefix='inside_')\n",
    "viewer.add_labels(mask, name='axons', opacity = 0.4)#, scale = scale)"
   ]
  },
  {
   "cell_type": "markdown",
   "metadata": {},
   "source": [
    "## Save data frame"
   ]
  },
  {
   "cell_type": "code",
   "execution_count": 16,
   "metadata": {},
   "outputs": [],
   "source": [
    "df_name = f'{output_prefix}axons.pkl'\n",
    "df_final.to_pickle(os.path.join(analysis_dir,df_name))"
   ]
  },
  {
   "cell_type": "code",
   "execution_count": null,
   "metadata": {},
   "outputs": [],
   "source": []
  }
 ],
 "metadata": {
  "kernelspec": {
   "display_name": "cellpose-env",
   "language": "python",
   "name": "python3"
  },
  "language_info": {
   "codemirror_mode": {
    "name": "ipython",
    "version": 3
   },
   "file_extension": ".py",
   "mimetype": "text/x-python",
   "name": "python",
   "nbconvert_exporter": "python",
   "pygments_lexer": "ipython3",
   "version": "3.11.11"
  }
 },
 "nbformat": 4,
 "nbformat_minor": 2
}
