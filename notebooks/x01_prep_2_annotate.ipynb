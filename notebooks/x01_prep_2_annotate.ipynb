{
 "cells": [
  {
   "cell_type": "code",
   "execution_count": 1,
   "id": "515c1bf2",
   "metadata": {},
   "outputs": [],
   "source": [
    "import os\n",
    "import pandas as pd\n",
    "import numpy as np\n",
    "import dask.array as da\n",
    "from tifffile import imread\n",
    "from scipy.spatial import cKDTree\n",
    "import napari\n",
    "import pickle as pkl\n",
    "from sem_quant.processing_utils import mask_from_df"
   ]
  },
  {
   "cell_type": "code",
   "execution_count": 2,
   "id": "abf77d41",
   "metadata": {},
   "outputs": [],
   "source": [
    "im_path = r'I:\\\\CBI\\\\Jonathan\\\\CLEM\\\\Birder\\\\88EM87 A\\\\00001_ashlar.ome.tif'\n",
    "df_path = r'I:\\CBI\\Jonathan\\CLEM\\Birder\\88EM87 A\\88EM87A01_mitos.pkl'\n",
    "output_dir = r'I:\\CBI\\Jonathan\\CLEM\\Birder\\88EM87 A\\01_annotations'\n",
    "\n",
    "categories = ['healthy','swollen','discard']\n",
    "colors = ['green','red','blue']\n",
    "\n",
    "mitos_res = 1"
   ]
  },
  {
   "cell_type": "code",
   "execution_count": 3,
   "id": "eceda906",
   "metadata": {},
   "outputs": [
    {
     "data": {
      "text/plain": [
       "(25535, 32073)"
      ]
     },
     "execution_count": 3,
     "metadata": {},
     "output_type": "execute_result"
    }
   ],
   "source": [
    "# read in the image\n",
    "store = imread(im_path, aszarr=True)\n",
    "im_list = []\n",
    "for res in range(3):\n",
    "    im = da.from_zarr(store,res)\n",
    "    im_list.append(im)\n",
    "\n",
    "im_shape = im_list[mitos_res].shape\n",
    "im_shape"
   ]
  },
  {
   "cell_type": "code",
   "execution_count": 4,
   "id": "e7dfde83",
   "metadata": {},
   "outputs": [],
   "source": [
    "# read in the info about the mitochondria\n",
    "df_mitos = pd.read_pickle(df_path)\n",
    "\n",
    "# create the mask\n",
    "mask = mask_from_df(df_mitos, im_shape)"
   ]
  },
  {
   "cell_type": "code",
   "execution_count": 5,
   "id": "38542c72",
   "metadata": {},
   "outputs": [],
   "source": [
    "# visualize image and objects\n",
    "viewer = napari.Viewer()\n",
    "viewer.add_image(im_list)\n",
    "viewer.add_labels(mask, name='mito mask', visible=True, scale = (2**mitos_res, 2**mitos_res))\n",
    "\n",
    "# add points for each category\n",
    "for cat, color in zip(categories, colors):\n",
    "\n",
    "    if cat in df_mitos.columns:\n",
    "        points = df_mitos.loc[df_mitos[cat] == 1,['centroid-0','centroid-1']].to_numpy()\n",
    "    else:\n",
    "        points = []\n",
    "    \n",
    "    viewer.add_points(points, name = cat, size = 30, face_color= color, scale = (2**mitos_res, 2**mitos_res))"
   ]
  },
  {
   "cell_type": "markdown",
   "id": "6009fdcc",
   "metadata": {},
   "source": [
    "# SAVE"
   ]
  },
  {
   "cell_type": "code",
   "execution_count": 13,
   "id": "fcc03b62",
   "metadata": {},
   "outputs": [
    {
     "name": "stdout",
     "output_type": "stream",
     "text": [
      "Saved Points layer 'healthy' to I:\\CBI\\Jonathan\\CLEM\\Birder\\88EM87 A\\01_annotations\\healthy.pkl\n",
      "Saved Points layer 'swollen' to I:\\CBI\\Jonathan\\CLEM\\Birder\\88EM87 A\\01_annotations\\swollen.pkl\n",
      "Saved Points layer 'discard' to I:\\CBI\\Jonathan\\CLEM\\Birder\\88EM87 A\\01_annotations\\discard.pkl\n"
     ]
    }
   ],
   "source": [
    "# Combine all annotation points and keep track of their categories\n",
    "all_points = []\n",
    "all_labels = []\n",
    "\n",
    "for cat in categories:\n",
    "    points = viewer.layers[cat].data\n",
    "    all_points.append(points)\n",
    "    all_labels.extend([cat] * len(points))\n",
    "\n",
    "# Convert to arrays\n",
    "all_points = np.vstack(all_points)\n",
    "all_labels = np.array(all_labels)\n",
    "\n",
    "# Build KDTree from all points\n",
    "tree = cKDTree(all_points)\n",
    "\n",
    "# Query the closest annotation point for each centroid\n",
    "centroids = df_mitos[['centroid-0', 'centroid-1']].to_numpy()\n",
    "distances, indices = tree.query(centroids, k=1)\n",
    "\n",
    "# Apply cutoff and assign annotation if within threshold\n",
    "cutoff = 20  # distance threshold\n",
    "df_mitos['annotation'] = [\n",
    "    all_labels[i] if d <= cutoff else None\n",
    "    for d, i in zip(distances, indices)\n",
    "]\n",
    "\n",
    "# add binary columns for each category\n",
    "for cat in categories:\n",
    "    df_mitos[cat] = df_mitos['annotation'] == cat\n",
    "\n",
    "# save the updated DataFrame to a pickle file\n",
    "df_mitos.to_pickle(df_path)\n",
    "\n",
    "# pickle all the points data\n",
    "for layer in viewer.layers:\n",
    "    if isinstance(layer, napari.layers.Points):\n",
    "        filename = f\"{layer.name.replace(' ', '_')}.pkl\"\n",
    "        filepath = os.path.join(output_dir, filename)\n",
    "        data_to_save = {\n",
    "            'data': layer.data,\n",
    "            'properties': layer.properties,\n",
    "            'features': layer.features,\n",
    "            'metadata': layer.metadata\n",
    "        }\n",
    "        with open(filepath, 'wb') as f:\n",
    "            pkl.dump(data_to_save, f)\n",
    "        print(f\"Saved Points layer '{layer.name}' to {filepath}\")"
   ]
  }
 ],
 "metadata": {
  "kernelspec": {
   "display_name": "cellpose-env",
   "language": "python",
   "name": "python3"
  },
  "language_info": {
   "codemirror_mode": {
    "name": "ipython",
    "version": 3
   },
   "file_extension": ".py",
   "mimetype": "text/x-python",
   "name": "python",
   "nbconvert_exporter": "python",
   "pygments_lexer": "ipython3",
   "version": "3.11.11"
  }
 },
 "nbformat": 4,
 "nbformat_minor": 5
}
