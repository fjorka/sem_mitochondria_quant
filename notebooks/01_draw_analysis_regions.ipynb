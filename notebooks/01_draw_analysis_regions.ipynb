{
 "cells": [
  {
   "cell_type": "markdown",
   "id": "aee3e910",
   "metadata": {},
   "source": [
    "This notebook allows you to open an image and annotate polygonal regions that should be excluded from analysis—such as warped tissue areas, major imaging artifacts, or other unwanted regions."
   ]
  },
  {
   "cell_type": "code",
   "execution_count": 3,
   "id": "48328510",
   "metadata": {},
   "outputs": [],
   "source": [
    "import os\n",
    "import sys\n",
    "import napari\n",
    "import dask.array as da\n",
    "import numpy as np\n",
    "from tifffile import imread\n",
    "import pickle as pkl\n",
    "\n",
    "sys.path.append(os.path.abspath(os.path.join(os.getcwd(), '..')))\n",
    "from sem_quant.load_config import load_config"
   ]
  },
  {
   "cell_type": "markdown",
   "id": "422c153a",
   "metadata": {},
   "source": [
    "## Specify config file"
   ]
  },
  {
   "cell_type": "code",
   "execution_count": 4,
   "id": "812b772f",
   "metadata": {},
   "outputs": [],
   "source": [
    "config_file_name = \"../A02_config.json\""
   ]
  },
  {
   "cell_type": "code",
   "execution_count": 5,
   "id": "a138b783",
   "metadata": {},
   "outputs": [],
   "source": [
    "# read in config file\n",
    "\n",
    "config = load_config(config_file_name)\n",
    "\n",
    "im_path = config.paths.im_path\n",
    "analysis_dir = config.paths.analysis_dir\n",
    "\n",
    "output_prefix = config.paths.output_prefix\n",
    "exclude_name = config.paths.exclude_file_suffix\n",
    "\n",
    "axons_res = config.data_properties.axons_res"
   ]
  },
  {
   "cell_type": "code",
   "execution_count": 6,
   "id": "672a098d",
   "metadata": {},
   "outputs": [],
   "source": [
    "# create analysis directory if it doesn't exist\n",
    "os.makedirs(analysis_dir, exist_ok=True)"
   ]
  },
  {
   "cell_type": "markdown",
   "id": "ecb40091",
   "metadata": {},
   "source": [
    "## Open in the viewer and annotate"
   ]
  },
  {
   "cell_type": "code",
   "execution_count": 7,
   "id": "67580dd4",
   "metadata": {},
   "outputs": [],
   "source": [
    "store = imread(im_path, aszarr=True)\n",
    "im = da.from_zarr(store, axons_res)"
   ]
  },
  {
   "cell_type": "code",
   "execution_count": 8,
   "id": "e0b1815e",
   "metadata": {},
   "outputs": [
    {
     "data": {
      "text/plain": [
       "<Shapes layer 'discard_regions' at 0x1c1a7ed3710>"
      ]
     },
     "execution_count": 8,
     "metadata": {},
     "output_type": "execute_result"
    }
   ],
   "source": [
    "viewer = napari.Viewer()\n",
    "viewer.add_image(im)\n",
    "viewer.add_shapes(name = exclude_name)"
   ]
  },
  {
   "cell_type": "markdown",
   "id": "3cddb64d",
   "metadata": {},
   "source": [
    "## Save"
   ]
  },
  {
   "cell_type": "code",
   "execution_count": 9,
   "id": "6a3580c3",
   "metadata": {},
   "outputs": [],
   "source": [
    "# collect data\n",
    "discard_regions = viewer.layers[exclude_name].data\n",
    "\n",
    "# save\n",
    "with open(f'{analysis_dir}/{output_prefix}{exclude_name}.pkl', 'wb') as f:\n",
    "    pkl.dump(discard_regions, f)"
   ]
  },
  {
   "cell_type": "code",
   "execution_count": null,
   "id": "86b90efb",
   "metadata": {},
   "outputs": [],
   "source": []
  }
 ],
 "metadata": {
  "kernelspec": {
   "display_name": "cellpose-env",
   "language": "python",
   "name": "python3"
  },
  "language_info": {
   "codemirror_mode": {
    "name": "ipython",
    "version": 3
   },
   "file_extension": ".py",
   "mimetype": "text/x-python",
   "name": "python",
   "nbconvert_exporter": "python",
   "pygments_lexer": "ipython3",
   "version": "3.11.11"
  }
 },
 "nbformat": 4,
 "nbformat_minor": 5
}
