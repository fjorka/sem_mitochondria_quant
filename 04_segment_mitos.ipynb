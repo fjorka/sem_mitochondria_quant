{
 "cells": [
  {
   "cell_type": "markdown",
   "metadata": {},
   "source": [
    "This notebook has to run in an environment with SAM, on Windows it will require WSL."
   ]
  },
  {
   "cell_type": "code",
   "execution_count": 1,
   "metadata": {},
   "outputs": [
    {
     "data": {
      "text/plain": [
       "True"
      ]
     },
     "execution_count": 1,
     "metadata": {},
     "output_type": "execute_result"
    }
   ],
   "source": [
    "from imaris_ims_file_reader.ims import ims\n",
    "import dask.array as da\n",
    "import os\n",
    "import gc\n",
    "# if using Apple MPS, fall back to CPU for unsupported ops\n",
    "os.environ[\"PYTORCH_ENABLE_MPS_FALLBACK\"] = \"1\"\n",
    "import numpy as np\n",
    "import pandas as pd\n",
    "import matplotlib.pyplot as plt\n",
    "from tifffile import imread\n",
    "from skimage.color import gray2rgb\n",
    "import matplotlib.pyplot as plt\n",
    "from skimage.segmentation import clear_border\n",
    "from tqdm import tqdm\n",
    "import pickle as pkl\n",
    "\n",
    "from sam2.build_sam import build_sam2\n",
    "from sam2.automatic_mask_generator import SAM2AutomaticMaskGenerator\n",
    "\n",
    "import torch\n",
    "torch.cuda.is_available()"
   ]
  },
  {
   "cell_type": "code",
   "execution_count": 2,
   "metadata": {},
   "outputs": [],
   "source": [
    "device = torch.device(\"cuda\")\n",
    "\n",
    "torch.autocast(\"cuda\", dtype=torch.bfloat16).__enter__()\n",
    "# turn on tfloat32 for Ampere GPUs (https://pytorch.org/docs/stable/notes/cuda.html#tensorfloat-32-tf32-on-ampere-devices)\n",
    "if torch.cuda.get_device_properties(0).major >= 8:\n",
    "    torch.backends.cuda.matmul.allow_tf32 = True\n",
    "    torch.backends.cudnn.allow_tf32 = True"
   ]
  },
  {
   "cell_type": "code",
   "execution_count": 3,
   "metadata": {},
   "outputs": [],
   "source": [
    "im_path = r'/mnt/d/data_analysis/2025_Birder_mito/88EM87C 25x25_ashlar.ome.tif'\n",
    "output_dir = r'/mnt/d/data_analysis/2025_Birder_mito/C_00_analysis'\n",
    "output_sub_dir = 'mitos_sam'\n",
    "prefix_save = '88EM87C_'\n",
    "\n",
    "df_path = os.path.join(output_dir,f'{prefix_save}axons.pkl')\n",
    "\n",
    "axon_res = 3\n",
    "mitos_res = 0\n",
    "row_offset = 0 # used if df was created as a test on a smaller image\n",
    "col_offset = 0 # used if df was created as a test on a smaller image\n",
    "\n",
    "sam2_checkpoint = \"/home/kasia/sam/sam2/checkpoints/sam2.1_hiera_large.pt\"\n",
    "model_cfg = \"configs/sam2.1/sam2.1_hiera_l.yaml\"\n",
    "\n",
    "os.makedirs(os.path.join(output_dir,output_sub_dir),exist_ok=True)"
   ]
  },
  {
   "cell_type": "code",
   "execution_count": 4,
   "metadata": {},
   "outputs": [
    {
     "data": {
      "text/html": [
       "<table>\n",
       "    <tr>\n",
       "        <td>\n",
       "            <table style=\"border-collapse: collapse;\">\n",
       "                <thead>\n",
       "                    <tr>\n",
       "                        <td> </td>\n",
       "                        <th> Array </th>\n",
       "                        <th> Chunk </th>\n",
       "                    </tr>\n",
       "                </thead>\n",
       "                <tbody>\n",
       "                    \n",
       "                    <tr>\n",
       "                        <th> Bytes </th>\n",
       "                        <td> 616.37 MiB </td>\n",
       "                        <td> 1.00 MiB </td>\n",
       "                    </tr>\n",
       "                    \n",
       "                    <tr>\n",
       "                        <th> Shape </th>\n",
       "                        <td> (22084, 29266) </td>\n",
       "                        <td> (1024, 1024) </td>\n",
       "                    </tr>\n",
       "                    <tr>\n",
       "                        <th> Dask graph </th>\n",
       "                        <td colspan=\"2\"> 638 chunks in 2 graph layers </td>\n",
       "                    </tr>\n",
       "                    <tr>\n",
       "                        <th> Data type </th>\n",
       "                        <td colspan=\"2\"> uint8 numpy.ndarray </td>\n",
       "                    </tr>\n",
       "                </tbody>\n",
       "            </table>\n",
       "        </td>\n",
       "        <td>\n",
       "        <svg width=\"170\" height=\"140\" style=\"stroke:rgb(0,0,0);stroke-width:1\" >\n",
       "\n",
       "  <!-- Horizontal lines -->\n",
       "  <line x1=\"0\" y1=\"0\" x2=\"120\" y2=\"0\" style=\"stroke-width:2\" />\n",
       "  <line x1=\"0\" y1=\"4\" x2=\"120\" y2=\"4\" />\n",
       "  <line x1=\"0\" y1=\"8\" x2=\"120\" y2=\"8\" />\n",
       "  <line x1=\"0\" y1=\"12\" x2=\"120\" y2=\"12\" />\n",
       "  <line x1=\"0\" y1=\"16\" x2=\"120\" y2=\"16\" />\n",
       "  <line x1=\"0\" y1=\"20\" x2=\"120\" y2=\"20\" />\n",
       "  <line x1=\"0\" y1=\"25\" x2=\"120\" y2=\"25\" />\n",
       "  <line x1=\"0\" y1=\"33\" x2=\"120\" y2=\"33\" />\n",
       "  <line x1=\"0\" y1=\"37\" x2=\"120\" y2=\"37\" />\n",
       "  <line x1=\"0\" y1=\"41\" x2=\"120\" y2=\"41\" />\n",
       "  <line x1=\"0\" y1=\"46\" x2=\"120\" y2=\"46\" />\n",
       "  <line x1=\"0\" y1=\"50\" x2=\"120\" y2=\"50\" />\n",
       "  <line x1=\"0\" y1=\"54\" x2=\"120\" y2=\"54\" />\n",
       "  <line x1=\"0\" y1=\"62\" x2=\"120\" y2=\"62\" />\n",
       "  <line x1=\"0\" y1=\"67\" x2=\"120\" y2=\"67\" />\n",
       "  <line x1=\"0\" y1=\"71\" x2=\"120\" y2=\"71\" />\n",
       "  <line x1=\"0\" y1=\"75\" x2=\"120\" y2=\"75\" />\n",
       "  <line x1=\"0\" y1=\"79\" x2=\"120\" y2=\"79\" />\n",
       "  <line x1=\"0\" y1=\"83\" x2=\"120\" y2=\"83\" />\n",
       "  <line x1=\"0\" y1=\"90\" x2=\"120\" y2=\"90\" style=\"stroke-width:2\" />\n",
       "\n",
       "  <!-- Vertical lines -->\n",
       "  <line x1=\"0\" y1=\"0\" x2=\"0\" y2=\"90\" style=\"stroke-width:2\" />\n",
       "  <line x1=\"4\" y1=\"0\" x2=\"4\" y2=\"90\" />\n",
       "  <line x1=\"12\" y1=\"0\" x2=\"12\" y2=\"90\" />\n",
       "  <line x1=\"16\" y1=\"0\" x2=\"16\" y2=\"90\" />\n",
       "  <line x1=\"25\" y1=\"0\" x2=\"25\" y2=\"90\" />\n",
       "  <line x1=\"29\" y1=\"0\" x2=\"29\" y2=\"90\" />\n",
       "  <line x1=\"37\" y1=\"0\" x2=\"37\" y2=\"90\" />\n",
       "  <line x1=\"41\" y1=\"0\" x2=\"41\" y2=\"90\" />\n",
       "  <line x1=\"50\" y1=\"0\" x2=\"50\" y2=\"90\" />\n",
       "  <line x1=\"54\" y1=\"0\" x2=\"54\" y2=\"90\" />\n",
       "  <line x1=\"62\" y1=\"0\" x2=\"62\" y2=\"90\" />\n",
       "  <line x1=\"67\" y1=\"0\" x2=\"67\" y2=\"90\" />\n",
       "  <line x1=\"75\" y1=\"0\" x2=\"75\" y2=\"90\" />\n",
       "  <line x1=\"79\" y1=\"0\" x2=\"79\" y2=\"90\" />\n",
       "  <line x1=\"88\" y1=\"0\" x2=\"88\" y2=\"90\" />\n",
       "  <line x1=\"92\" y1=\"0\" x2=\"92\" y2=\"90\" />\n",
       "  <line x1=\"100\" y1=\"0\" x2=\"100\" y2=\"90\" />\n",
       "  <line x1=\"104\" y1=\"0\" x2=\"104\" y2=\"90\" />\n",
       "  <line x1=\"113\" y1=\"0\" x2=\"113\" y2=\"90\" />\n",
       "  <line x1=\"120\" y1=\"0\" x2=\"120\" y2=\"90\" style=\"stroke-width:2\" />\n",
       "\n",
       "  <!-- Colored Rectangle -->\n",
       "  <polygon points=\"0.0,0.0 120.0,0.0 120.0,90.55149320030068 0.0,90.55149320030068\" style=\"fill:#8B4903A0;stroke-width:0\"/>\n",
       "\n",
       "  <!-- Text -->\n",
       "  <text x=\"60.000000\" y=\"110.551493\" font-size=\"1.0rem\" font-weight=\"100\" text-anchor=\"middle\" >29266</text>\n",
       "  <text x=\"140.000000\" y=\"45.275747\" font-size=\"1.0rem\" font-weight=\"100\" text-anchor=\"middle\" transform=\"rotate(-90,140.000000,45.275747)\">22084</text>\n",
       "</svg>\n",
       "        </td>\n",
       "    </tr>\n",
       "</table>"
      ],
      "text/plain": [
       "dask.array<from-zarr, shape=(22084, 29266), dtype=uint8, chunksize=(1024, 1024), chunktype=numpy.ndarray>"
      ]
     },
     "execution_count": 4,
     "metadata": {},
     "output_type": "execute_result"
    }
   ],
   "source": [
    "store = imread(im_path, aszarr=True)\n",
    "im = da.from_zarr(store,mitos_res)\n",
    "im"
   ]
  },
  {
   "cell_type": "code",
   "execution_count": 5,
   "metadata": {},
   "outputs": [],
   "source": [
    "# import df\n",
    "df = pd.read_pickle(df_path)"
   ]
  },
  {
   "cell_type": "code",
   "execution_count": 6,
   "metadata": {},
   "outputs": [],
   "source": [
    "sam2 = build_sam2(model_cfg, sam2_checkpoint, device=device, apply_postprocessing=False)\n",
    "\n",
    "mask_generator = SAM2AutomaticMaskGenerator(\n",
    "    model=sam2,\n",
    "    points_per_side=64,\n",
    "    points_per_batch=64,\n",
    "    pred_iou_thresh=0.7,\n",
    "    stability_score_thresh=0.92,\n",
    "    stability_score_offset=0.7,\n",
    "    crop_n_layers=2,\n",
    "    box_nms_thresh=0.7,\n",
    "    crop_n_points_downscale_factor=2,\n",
    "    min_mask_region_area=1000,\n",
    "    use_m2m=False,\n",
    ")"
   ]
  },
  {
   "cell_type": "code",
   "execution_count": 7,
   "metadata": {},
   "outputs": [
    {
     "name": "stderr",
     "output_type": "stream",
     "text": [
      "  0%|          | 0/478 [00:00<?, ?it/s]"
     ]
    },
    {
     "name": "stderr",
     "output_type": "stream",
     "text": [
      "/home/kasia/sam/sam2/sam2/sam2_image_predictor.py:431: UserWarning: cannot import name '_C' from 'sam2' (/home/kasia/sam/sam2/sam2/__init__.py)\n",
      "\n",
      "Skipping the post-processing step due to the error above. You can still use SAM 2 and it's OK to ignore the error above, although some post-processing functionality may be limited (which doesn't affect the results in most cases; see https://github.com/facebookresearch/sam2/blob/main/INSTALL.md).\n",
      "  masks = self._transforms.postprocess_masks(\n",
      " 92%|█████████▏| 438/478 [1:40:26<09:10, 13.76s/it]\n"
     ]
    }
   ],
   "source": [
    "res_adjust = axon_res - mitos_res\n",
    "mito_props = ['area', 'predicted_iou', 'stability_score']\n",
    "\n",
    "st = 110\n",
    "for ind, row in tqdm(df.loc[st:, :].iterrows(), total=len(df.loc[st:, :])):\n",
    "\n",
    "    # get the cell interior image of high res\n",
    "    row_start = (int(row['inside_bbox-0']) + row_offset)*2**res_adjust\n",
    "    row_end = (int(row['inside_bbox-2']) + row_offset)*2**res_adjust\n",
    "    col_start = (int(row['inside_bbox-1']) + col_offset)*2**res_adjust\n",
    "    col_end = (int(row['inside_bbox-3']) + col_offset)*2**res_adjust\n",
    "\n",
    "    im_test = im[row_start:row_end, col_start:col_end]\n",
    "    \n",
    "    # run the segmentation\n",
    "    im_rgb = gray2rgb(im_test).compute()\n",
    "    masks_org = mask_generator.generate(im_rgb)\n",
    "\n",
    "    # saving the masks\n",
    "    file_name = f'{prefix_save}{str(row.label).zfill(6)}_mito.pkl'\n",
    "    with open(os.path.join(output_dir, output_sub_dir, file_name), 'wb') as f:\n",
    "        pkl.dump(masks_org, f)\n",
    "\n",
    "    torch.cuda.empty_cache()\n",
    "    del im_test\n",
    "    del im_rgb \n",
    "    del masks_org\n",
    "    gc.collect()"
   ]
  },
  {
   "cell_type": "code",
   "execution_count": null,
   "metadata": {},
   "outputs": [],
   "source": []
  }
 ],
 "metadata": {
  "kernelspec": {
   "display_name": "sam-org-env",
   "language": "python",
   "name": "python3"
  },
  "language_info": {
   "codemirror_mode": {
    "name": "ipython",
    "version": 3
   },
   "file_extension": ".py",
   "mimetype": "text/x-python",
   "name": "python",
   "nbconvert_exporter": "python",
   "pygments_lexer": "ipython3",
   "version": "3.11.11"
  }
 },
 "nbformat": 4,
 "nbformat_minor": 2
}
